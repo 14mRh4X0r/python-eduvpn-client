{
 "cells": [
  {
   "cell_type": "code",
   "execution_count": 1,
   "metadata": {
    "collapsed": true
   },
   "outputs": [],
   "source": [
    "import requests\n",
    "import nacl.signing\n",
    "import base64\n",
    "import os\n",
    "import hashlib\n",
    "import random"
   ]
  },
  {
   "cell_type": "code",
   "execution_count": 2,
   "metadata": {},
   "outputs": [],
   "source": [
    "def csrf_token(nbytes=32):\n",
    "    tok = os.urandom(nbytes)\n",
    "    return base64.urlsafe_b64encode(tok).rstrip(b'=').decode('ascii')\n",
    "\n",
    "def code_challenge(length=128):\n",
    "    choices = 'abcdefghijklmnopqrstuvwxyzABCDEFGHIJKLMNOPQRSTUVWXYZ0123456789-._~'\n",
    "    code_verifier = \"\".join(random.choice(choices) for _ in range(length))\n",
    "    return base64.urlsafe_b64encode(hashlib.sha256(code_verifier).digest())"
   ]
  },
  {
   "cell_type": "code",
   "execution_count": 3,
   "metadata": {},
   "outputs": [
    {
     "data": {
      "text/plain": [
       "[u'https://nl.eduvpn.org/',\n",
       " u'https://esciencecenter.eduvpn.nl/',\n",
       " u'https://ru.eduvpn.nl/',\n",
       " u'https://surf.eduvpn.nl/',\n",
       " u'https://ut.eduvpn.nl/',\n",
       " u'https://demo.eduvpn.nl/']"
      ]
     },
     "execution_count": 3,
     "metadata": {},
     "output_type": "execute_result"
    }
   ],
   "source": [
    "# retrieve a list of instances\n",
    "inst_doc_url = 'https://static.eduvpn.nl/instances.json'\n",
    "inst_doc_sig_url = 'https://static.eduvpn.nl/instances.json.sig'\n",
    "inst_doc = requests.get(inst_doc_url)\n",
    "inst_doc_sig = requests.get(inst_doc_sig_url)\n",
    "instances = [i['base_uri'] for i in inst_doc.json()['instances']]\n",
    "instances"
   ]
  },
  {
   "cell_type": "code",
   "execution_count": 4,
   "metadata": {},
   "outputs": [],
   "source": [
    "#verify_key = nacl.signing.VerifyKey(key, encoder=nacl.encoding.Base64Encoder)\n",
    "#verify_key.verify(smessage=inst_doc.content, signature=inst_doc_sig.content)"
   ]
  },
  {
   "cell_type": "code",
   "execution_count": 5,
   "metadata": {},
   "outputs": [],
   "source": [
    "instance = 'https://demo.eduvpn.nl/'"
   ]
  },
  {
   "cell_type": "code",
   "execution_count": 6,
   "metadata": {},
   "outputs": [],
   "source": [
    "info = requests.get(instance + '/info.json').json()\n",
    "urls = info['api']['http://eduvpn.org/api#2']\n",
    "authorization_endpoint = urls['authorization_endpoint']"
   ]
  },
  {
   "cell_type": "code",
   "execution_count": 7,
   "metadata": {},
   "outputs": [
    {
     "name": "stdout",
     "output_type": "stream",
     "text": [
      "https://demo.eduvpn.nl/portal/_oauth/authorize?code_challenge=V8s5Jy0rlWRglXK73TcP8O0iqvQkvNhR4AHPJs5Qkgc&client_id=gijs&state=QOGoj6gCfgVOjEyLDJ2C9v9aODYBnlx175M5vVV3s2o&redirect_uri=http://localhost&response_type=code&code_challenge_method=S256&scope=config\n"
     ]
    }
   ],
   "source": [
    "params = {\n",
    "    \"client_id\": \"gijs\",   #  the ID that was registered, see below;\n",
    "    \"redirect_uri\": \"http://localhost\",   # the URL that was registered, see below;\n",
    "    \"response_type\": \"code\",  # always code;\n",
    "    \"scope\": \"config\",  # this is always config;\n",
    "    \"state\": csrf_token(),  # a cryptographically secure random string, to avoid CSRF;\n",
    "    \"code_challenge_method\": \"S256\",  # always S256;\n",
    "    \"code_challenge\": code_challenge().replace('=', '') # the code challenge (see RFC 7636).\n",
    "}\n",
    "print(authorization_endpoint + \"?\" + \"&\".join([k + \"=\" + v for k, v in params.items()]))"
   ]
  }
 ],
 "metadata": {
  "kernelspec": {
   "display_name": "Python 2",
   "language": "python",
   "name": "python2"
  },
  "language_info": {
   "codemirror_mode": {
    "name": "ipython",
    "version": 2
   },
   "file_extension": ".py",
   "mimetype": "text/x-python",
   "name": "python",
   "nbconvert_exporter": "python",
   "pygments_lexer": "ipython2",
   "version": "2.7.13"
  }
 },
 "nbformat": 4,
 "nbformat_minor": 2
}
