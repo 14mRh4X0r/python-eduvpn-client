{
 "cells": [
  {
   "cell_type": "code",
   "execution_count": null,
   "metadata": {
    "collapsed": true
   },
   "outputs": [],
   "source": [
    "from requests_oauthlib import OAuth2Session\n",
    "import socket\n",
    "import webbrowser\n",
    "import os\n",
    "import requests\n",
    "import base64\n",
    "import random\n",
    "import BaseHTTPServer\n",
    "import hashlib\n",
    "import nacl.signing\n",
    "import urlparse"
   ]
  },
  {
   "cell_type": "code",
   "execution_count": null,
   "metadata": {
    "collapsed": true
   },
   "outputs": [],
   "source": [
    "eduvpn_key = 'E5On0JTtyUVZmcWd+I/FXRm32nSq8R2ioyW7dcu/U88='\n",
    "verify_key = nacl.signing.VerifyKey(eduvpn_key, encoder=nacl.encoding.Base64Encoder)"
   ]
  },
  {
   "cell_type": "code",
   "execution_count": null,
   "metadata": {
    "collapsed": true
   },
   "outputs": [],
   "source": [
    "landing_page = \"\"\"\"<html>\n",
    "<head>\n",
    "<title>eduvpn</title>\n",
    "</head>\n",
    "<body>\n",
    "<h1>You can now close this window</h1>\n",
    "</body>\n",
    "</html>\"\n",
    "\"\"\"\n",
    "def get_open_port():\n",
    "        \"\"\"find an unused port\"\"\"\n",
    "        s = socket.socket(socket.AF_INET, socket.SOCK_STREAM)\n",
    "        s.bind((\"\",0))\n",
    "        s.listen(1)\n",
    "        port = s.getsockname()[1]\n",
    "        s.close()\n",
    "        return port\n",
    "    \n",
    "def gen_code_verifier(length=128):\n",
    "    choices = 'abcdefghijklmnopqrstuvwxyzABCDEFGHIJKLMNOPQRSTUVWXYZ0123456789-._~'\n",
    "    r = random.SystemRandom()\n",
    "    return \"\".join(r.choice(choices) for _ in range(length))\n",
    "    \n",
    "def gen_code_challenge(code_verifier):  \n",
    "    return base64.urlsafe_b64encode(hashlib.sha256(code_verifier).digest()).rstrip('=')\n",
    "\n",
    "def one_request(port):\n",
    "    # listen for one request\n",
    "    class RequestHandler(BaseHTTPServer.BaseHTTPRequestHandler):\n",
    "        def do_GET(self):\n",
    "            self.send_response(200)\n",
    "            self.send_header(\"Content-type\", \"text/html\")\n",
    "            self.end_headers()\n",
    "            self.wfile.write(landing_page)\n",
    "            self.server.path = self.path\n",
    "\n",
    "    httpd = BaseHTTPServer.HTTPServer(('', port), RequestHandler)\n",
    "    httpd.handle_request()\n",
    "    httpd.server_close()\n",
    "    parsed = urlparse.urlparse(httpd.path)\n",
    "    return urlparse.parse_qs(parsed.query)"
   ]
  },
  {
   "cell_type": "code",
   "execution_count": null,
   "metadata": {
    "collapsed": true
   },
   "outputs": [],
   "source": [
    "# retrieve a list of instances\n",
    "inst_doc_url = 'https://static.eduvpn.nl/instances.json'\n",
    "inst_doc_sig_url = 'https://static.eduvpn.nl/instances.json.sig'\n",
    "inst_doc = requests.get(inst_doc_url)\n",
    "inst_doc_sig = requests.get(inst_doc_sig_url)\n",
    "\n",
    "# verify signature\n",
    "_ = verify_key.verify(smessage=inst_doc.content, signature=inst_doc_sig.content.decode('base64'))\n",
    "\n",
    "instances = [i['base_uri'] for i in inst_doc.json()['instances']]\n",
    "instances"
   ]
  },
  {
   "cell_type": "code",
   "execution_count": null,
   "metadata": {
    "collapsed": true
   },
   "outputs": [],
   "source": [
    "instance = 'https://demo.eduvpn.nl/'"
   ]
  },
  {
   "cell_type": "code",
   "execution_count": null,
   "metadata": {
    "collapsed": true
   },
   "outputs": [],
   "source": [
    "# get info from server\n",
    "info = requests.get(instance + '/info.json')\n",
    "#info_sig = requests.get(instance + '/info.json.sig')\n",
    "#_ = verify_key.verify(smessage=info.content, signature=info_sig.content.decode('base64'))"
   ]
  },
  {
   "cell_type": "code",
   "execution_count": null,
   "metadata": {
    "collapsed": true
   },
   "outputs": [],
   "source": [
    "auth_urls = info.json()['api']['http://eduvpn.org/api#2']\n",
    "authorization_endpoint = auth_urls['authorization_endpoint']\n",
    "token_endpoint = auth_urls['token_endpoint']"
   ]
  },
  {
   "cell_type": "code",
   "execution_count": null,
   "metadata": {
    "collapsed": true
   },
   "outputs": [],
   "source": [
    "port = get_open_port()\n",
    "client_id = \"org.eduvpn.app\"\n",
    "redirect_uri = 'http://127.0.0.1:%s/callback' % port\n",
    "auth_uri = 'https://demo.eduvpn.nl/portal/_oauth/authorize'\n",
    "response_type = \"code\"\n",
    "scope = \"config\"\n",
    "code_challenge_method = \"S256\"\n",
    "code_verifier = gen_code_verifier()\n",
    "code_challenge = gen_code_challenge(code_verifier)"
   ]
  },
  {
   "cell_type": "code",
   "execution_count": null,
   "metadata": {
    "collapsed": true
   },
   "outputs": [],
   "source": [
    "oauth = OAuth2Session(client_id, redirect_uri=redirect_uri, scope=[scope])\n",
    "authorization_url, state = oauth.authorization_url(authorization_endpoint, code_challenge_method=code_challenge_method,\n",
    "                                                   code_challenge=code_challenge)"
   ]
  },
  {
   "cell_type": "code",
   "execution_count": null,
   "metadata": {
    "collapsed": true,
    "scrolled": true
   },
   "outputs": [],
   "source": [
    "webbrowser.open(authorization_url)\n",
    "response = one_request(port)"
   ]
  },
  {
   "cell_type": "code",
   "execution_count": null,
   "metadata": {
    "collapsed": true
   },
   "outputs": [],
   "source": [
    "token = oauth.fetch_token(token_endpoint, code=response['code'][0], code_verifier=code_verifier)"
   ]
  },
  {
   "cell_type": "code",
   "execution_count": null,
   "metadata": {
    "collapsed": true
   },
   "outputs": [],
   "source": [
    "token"
   ]
  }
 ],
 "metadata": {
  "kernelspec": {
   "display_name": "Python 2",
   "language": "python",
   "name": "python2"
  },
  "language_info": {
   "codemirror_mode": {
    "name": "ipython",
    "version": 2
   },
   "file_extension": ".py",
   "mimetype": "text/x-python",
   "name": "python",
   "nbconvert_exporter": "python",
   "pygments_lexer": "ipython2",
   "version": "2.7.13"
  }
 },
 "nbformat": 4,
 "nbformat_minor": 2
}
