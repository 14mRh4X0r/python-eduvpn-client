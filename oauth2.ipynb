{
 "cells": [
  {
   "cell_type": "code",
   "execution_count": 1,
   "metadata": {
    "collapsed": true
   },
   "outputs": [],
   "source": [
    "from requests_oauthlib import OAuth2Session\n",
    "import socket\n",
    "import webbrowser\n",
    "import os\n",
    "import requests\n",
    "import base64\n",
    "import random\n",
    "import BaseHTTPServer\n",
    "import hashlib\n",
    "import json\n",
    "import nacl.signing\n",
    "import urlparse"
   ]
  },
  {
   "cell_type": "code",
   "execution_count": 2,
   "metadata": {
    "collapsed": true
   },
   "outputs": [],
   "source": [
    "eduvpn_base_uri = 'https://static.eduvpn.nl/'\n",
    "eduvpn_key = 'E5On0JTtyUVZmcWd+I/FXRm32nSq8R2ioyW7dcu/U88='"
   ]
  },
  {
   "cell_type": "code",
   "execution_count": 3,
   "metadata": {
    "collapsed": true
   },
   "outputs": [],
   "source": [
    "landing_page = \"\"\"\"<html>\n",
    "<head>\n",
    "<title>eduvpn</title>\n",
    "</head>\n",
    "<body>\n",
    "<h1>You can now close this window</h1>\n",
    "</body>\n",
    "</html>\"\n",
    "\"\"\"\n",
    "def get_open_port():\n",
    "        \"\"\"find an unused port\"\"\"\n",
    "        s = socket.socket(socket.AF_INET, socket.SOCK_STREAM)\n",
    "        s.bind((\"\",0))\n",
    "        s.listen(1)\n",
    "        port = s.getsockname()[1]\n",
    "        s.close()\n",
    "        return port\n",
    "    \n",
    "def gen_code_verifier(length=128):\n",
    "    choices = 'abcdefghijklmnopqrstuvwxyzABCDEFGHIJKLMNOPQRSTUVWXYZ0123456789-._~'\n",
    "    r = random.SystemRandom()\n",
    "    return \"\".join(r.choice(choices) for _ in range(length))\n",
    "    \n",
    "def gen_code_challenge(code_verifier):  \n",
    "    return base64.urlsafe_b64encode(hashlib.sha256(code_verifier).digest()).rstrip('=')\n",
    "\n",
    "def one_request(port):\n",
    "    # listen for one request\n",
    "    class RequestHandler(BaseHTTPServer.BaseHTTPRequestHandler):\n",
    "        def do_GET(self):\n",
    "            self.send_response(200)\n",
    "            self.send_header(\"Content-type\", \"text/html\")\n",
    "            self.end_headers()\n",
    "            self.wfile.write(landing_page)\n",
    "            self.server.path = self.path\n",
    "\n",
    "    httpd = BaseHTTPServer.HTTPServer(('', port), RequestHandler)\n",
    "    httpd.handle_request()\n",
    "    httpd.server_close()\n",
    "    parsed = urlparse.urlparse(httpd.path)\n",
    "    return urlparse.parse_qs(parsed.query)"
   ]
  },
  {
   "cell_type": "code",
   "execution_count": 4,
   "metadata": {
    "collapsed": true
   },
   "outputs": [],
   "source": [
    "# used for verifying signatures\n",
    "verify_key = nacl.signing.VerifyKey(eduvpn_key, encoder=nacl.encoding.Base64Encoder)"
   ]
  },
  {
   "cell_type": "code",
   "execution_count": 5,
   "metadata": {},
   "outputs": [
    {
     "data": {
      "text/plain": [
       "[u'https://nl.eduvpn.org/',\n",
       " u'https://esciencecenter.eduvpn.nl/',\n",
       " u'https://ru.eduvpn.nl/',\n",
       " u'https://surf.eduvpn.nl/',\n",
       " u'https://ut.eduvpn.nl/',\n",
       " u'https://demo.eduvpn.nl/']"
      ]
     },
     "execution_count": 5,
     "metadata": {},
     "output_type": "execute_result"
    }
   ],
   "source": [
    "# retrieve a list of instances\n",
    "inst_doc_url = eduvpn_base_uri + '/instances.json'\n",
    "inst_doc_sig_url = eduvpn_base_uri + '/instances.json.sig'\n",
    "inst_doc = requests.get(inst_doc_url)\n",
    "inst_doc_sig = requests.get(inst_doc_sig_url)\n",
    "\n",
    "# verify signature\n",
    "_ = verify_key.verify(smessage=inst_doc.content, signature=inst_doc_sig.content.decode('base64'))\n",
    "\n",
    "instances = [i['base_uri'] for i in inst_doc.json()['instances']]\n",
    "instances"
   ]
  },
  {
   "cell_type": "code",
   "execution_count": 6,
   "metadata": {
    "collapsed": true
   },
   "outputs": [],
   "source": [
    "instance = 'https://demo.eduvpn.nl/'"
   ]
  },
  {
   "cell_type": "code",
   "execution_count": 7,
   "metadata": {
    "collapsed": true
   },
   "outputs": [],
   "source": [
    "# get info from server\n",
    "info = requests.get(instance + '/info.json')\n",
    "#info_sig = requests.get(instance + '/info.json.sig')\n",
    "#_ = verify_key.verify(smessage=info.content, signature=info_sig.content.decode('base64'))"
   ]
  },
  {
   "cell_type": "code",
   "execution_count": 8,
   "metadata": {},
   "outputs": [],
   "source": [
    "instance_urls = info.json()['api']['http://eduvpn.org/api#2']\n",
    "authorization_endpoint = instance_urls['authorization_endpoint']\n",
    "token_endpoint = instance_urls['token_endpoint']\n",
    "api_base_uri = instance_urls['api_base_uri']"
   ]
  },
  {
   "cell_type": "code",
   "execution_count": 9,
   "metadata": {
    "collapsed": true
   },
   "outputs": [],
   "source": [
    "port = get_open_port()\n",
    "client_id = \"org.eduvpn.app\"\n",
    "redirect_uri = 'http://127.0.0.1:%s/callback' % port\n",
    "auth_uri = 'https://demo.eduvpn.nl/portal/_oauth/authorize'\n",
    "response_type = \"code\"\n",
    "scope = \"config\"\n",
    "code_challenge_method = \"S256\"\n",
    "code_verifier = gen_code_verifier()\n",
    "code_challenge = gen_code_challenge(code_verifier)"
   ]
  },
  {
   "cell_type": "code",
   "execution_count": 10,
   "metadata": {
    "collapsed": true
   },
   "outputs": [],
   "source": [
    "oauth = OAuth2Session(client_id, redirect_uri=redirect_uri, scope=[scope])\n",
    "# we add extra arguments below for PKCE\n",
    "authorization_url, state = oauth.authorization_url(authorization_endpoint, code_challenge_method=code_challenge_method,\n",
    "                                                   code_challenge=code_challenge)"
   ]
  },
  {
   "cell_type": "code",
   "execution_count": 11,
   "metadata": {
    "scrolled": true
   },
   "outputs": [
    {
     "name": "stderr",
     "output_type": "stream",
     "text": [
      "127.0.0.1 - - [14/Jul/2017 16:58:42] \"GET /callback?code=RiOR0EjaE1h9KLIh4vDYPYKNCUFjJzWWcOOlGxtdugjk4S2AAw%2B2KqzxXZ7xuEK9wvyQQBuqnQvdyV2dc6W8AXsidHlwZSI6ImF1dGhvcml6YXRpb25fY29kZSIsImF1dGhfa2V5IjoiNzhmYzYwZDdhZTljYzViYzNmZTZmMTBmZWMzNWRhM2QiLCJ1c2VyX2lkIjoiZTExMzdlZjc0MmFkZjgzMDhhYWI3ZTBhNmI2NDNjOGUyMmNiZjNmYiIsImNsaWVudF9pZCI6Im9yZy5lZHV2cG4uYXBwIiwic2NvcGUiOiJjb25maWciLCJyZWRpcmVjdF91cmkiOiJodHRwOlwvXC8xMjcuMC4wLjE6NTkzNzJcL2NhbGxiYWNrIiwiY29kZV9jaGFsbGVuZ2UiOiIycVRGS3lJOElGLVl2ZVloMG4tc0VHOTVJMVQ5aFNXN3BZd29Ia2FiVEx3IiwiZXhwaXJlc19hdCI6IjIwMTctMDctMTQgMTQ6MDM6NDIifQ%3D%3D&state=r7zk9IP37IJGWkj5u0iRr1JrLH8wWa HTTP/1.1\" 200 -\n"
     ]
    }
   ],
   "source": [
    "webbrowser.open(authorization_url)\n",
    "response = one_request(port)"
   ]
  },
  {
   "cell_type": "code",
   "execution_count": 12,
   "metadata": {
    "collapsed": true
   },
   "outputs": [],
   "source": [
    "token = oauth.fetch_token(token_endpoint, code=response['code'][0], code_verifier=code_verifier)"
   ]
  },
  {
   "cell_type": "code",
   "execution_count": 13,
   "metadata": {},
   "outputs": [],
   "source": [
    "profile_list = oauth.get(api_base_uri + '/profile_list').content"
   ]
  },
  {
   "cell_type": "code",
   "execution_count": 14,
   "metadata": {},
   "outputs": [],
   "source": [
    "user_info = oauth.get(api_base_uri + '/user_info').content"
   ]
  },
  {
   "cell_type": "code",
   "execution_count": 15,
   "metadata": {},
   "outputs": [],
   "source": [
    "user_messages = oauth.get(api_base_uri + '/user_messages').content"
   ]
  },
  {
   "cell_type": "code",
   "execution_count": 16,
   "metadata": {
    "collapsed": true
   },
   "outputs": [],
   "source": [
    "system_messages = oauth.get(api_base_uri + '/system_messages').content"
   ]
  },
  {
   "cell_type": "code",
   "execution_count": 17,
   "metadata": {},
   "outputs": [],
   "source": [
    "create_config = oauth.post(api_base_uri + '/create_config', data={'display_name': 'notebook', 'profile_id': 'internet'})"
   ]
  },
  {
   "cell_type": "code",
   "execution_count": 18,
   "metadata": {
    "collapsed": true
   },
   "outputs": [],
   "source": [
    "create_keypair = oauth.post(api_base_uri + '/create_keypair', data={'display_name': 'notebook'})"
   ]
  },
  {
   "cell_type": "code",
   "execution_count": 19,
   "metadata": {},
   "outputs": [],
   "source": [
    "keypair = json.loads(create_keypair.content)['create_keypair']['data']\n",
    "cert = keypair['certificate']\n",
    "key = keypair['private_key']"
   ]
  },
  {
   "cell_type": "code",
   "execution_count": 20,
   "metadata": {},
   "outputs": [],
   "source": [
    "profile_config = oauth.get(api_base_uri + '/profile_config?profile_id=internet').content"
   ]
  },
  {
   "cell_type": "code",
   "execution_count": 21,
   "metadata": {},
   "outputs": [],
   "source": [
    "final_config = profile_config + '\\n<cert>\\n{}\\n</cert>\\n<key>\\n{}\\n</key>\\n'.format(cert, key)"
   ]
  },
  {
   "cell_type": "code",
   "execution_count": 22,
   "metadata": {
    "collapsed": true
   },
   "outputs": [],
   "source": [
    "with open('eduvpn.ovpn', 'w') as f:\n",
    "    f.write(final_config)"
   ]
  },
  {
   "cell_type": "code",
   "execution_count": 23,
   "metadata": {
    "collapsed": true
   },
   "outputs": [],
   "source": [
    "!open eduvpn.ovpn"
   ]
  }
 ],
 "metadata": {
  "kernelspec": {
   "display_name": "Python 2",
   "language": "python",
   "name": "python2"
  },
  "language_info": {
   "codemirror_mode": {
    "name": "ipython",
    "version": 2
   },
   "file_extension": ".py",
   "mimetype": "text/x-python",
   "name": "python",
   "nbconvert_exporter": "python",
   "pygments_lexer": "ipython2",
   "version": "2.7.13"
  }
 },
 "nbformat": 4,
 "nbformat_minor": 2
}
