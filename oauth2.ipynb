{
 "cells": [
  {
   "cell_type": "code",
   "execution_count": 1,
   "metadata": {
    "collapsed": true
   },
   "outputs": [],
   "source": [
    "import requests\n",
    "import nacl.signing\n",
    "import base64\n",
    "import os\n",
    "import hashlib\n",
    "import random\n",
    "import BaseHTTPServer\n",
    "import socket"
   ]
  },
  {
   "cell_type": "code",
   "execution_count": 2,
   "metadata": {
    "collapsed": true
   },
   "outputs": [],
   "source": [
    "eduvpn_key = 'E5On0JTtyUVZmcWd+I/FXRm32nSq8R2ioyW7dcu/U88='"
   ]
  },
  {
   "cell_type": "code",
   "execution_count": 3,
   "metadata": {
    "collapsed": true
   },
   "outputs": [],
   "source": [
    "def csrf_token(nbytes=32):\n",
    "    tok = os.urandom(nbytes)\n",
    "    return base64.urlsafe_b64encode(tok).rstrip(b'=').decode('ascii')\n",
    "\n",
    "def code_challenge(length=128):\n",
    "    choices = 'abcdefghijklmnopqrstuvwxyzABCDEFGHIJKLMNOPQRSTUVWXYZ0123456789-._~'\n",
    "    code_verifier = \"\".join(random.choice(choices) for _ in range(length))\n",
    "    return base64.urlsafe_b64encode(hashlib.sha256(code_verifier).digest()).rstrip('=')\n",
    "\n",
    "def get_open_port():\n",
    "        \"\"\"find an unused port\"\"\"\n",
    "        s = socket.socket(socket.AF_INET, socket.SOCK_STREAM)\n",
    "        s.bind((\"\",0))\n",
    "        s.listen(1)\n",
    "        port = s.getsockname()[1]\n",
    "        s.close()\n",
    "        return port"
   ]
  },
  {
   "cell_type": "code",
   "execution_count": 4,
   "metadata": {},
   "outputs": [
    {
     "data": {
      "text/plain": [
       "[u'https://nl.eduvpn.org/',\n",
       " u'https://esciencecenter.eduvpn.nl/',\n",
       " u'https://ru.eduvpn.nl/',\n",
       " u'https://surf.eduvpn.nl/',\n",
       " u'https://ut.eduvpn.nl/',\n",
       " u'https://demo.eduvpn.nl/']"
      ]
     },
     "execution_count": 4,
     "metadata": {},
     "output_type": "execute_result"
    }
   ],
   "source": [
    "# retrieve a list of instances\n",
    "inst_doc_url = 'https://static.eduvpn.nl/instances.json'\n",
    "inst_doc_sig_url = 'https://static.eduvpn.nl/instances.json.sig'\n",
    "inst_doc = requests.get(inst_doc_url)\n",
    "inst_doc_sig = requests.get(inst_doc_sig_url)\n",
    "instances = [i['base_uri'] for i in inst_doc.json()['instances']]\n",
    "instances"
   ]
  },
  {
   "cell_type": "code",
   "execution_count": 5,
   "metadata": {
    "scrolled": true
   },
   "outputs": [],
   "source": [
    "# verify signature\n",
    "verify_key = nacl.signing.VerifyKey(eduvpn_key, encoder=nacl.encoding.Base64Encoder)\n",
    "_ = verify_key.verify(smessage=inst_doc.content, signature=inst_doc_sig.content.decode('base64'))"
   ]
  },
  {
   "cell_type": "code",
   "execution_count": 6,
   "metadata": {
    "collapsed": true
   },
   "outputs": [],
   "source": [
    "instance = 'https://demo.eduvpn.nl/'"
   ]
  },
  {
   "cell_type": "code",
   "execution_count": 7,
   "metadata": {
    "collapsed": true
   },
   "outputs": [],
   "source": [
    "# get info from server\n",
    "info = requests.get(instance + '/info.json').json()\n",
    "urls = info['api']['http://eduvpn.org/api#2']\n",
    "authorization_endpoint = urls['authorization_endpoint']"
   ]
  },
  {
   "cell_type": "code",
   "execution_count": 8,
   "metadata": {
    "collapsed": true
   },
   "outputs": [],
   "source": [
    "# construct authorization url\n",
    "port = get_open_port()\n",
    "params = {\n",
    "    \"client_id\": \"org.eduvpn.app\",   #  the ID that was registered, see below;\n",
    "    \"redirect_uri\":   'http://127.0.0.1:%s/callback' % port,   # the URL that was registered, see below;\n",
    "    \"response_type\": \"code\",  # always code;\n",
    "    \"scope\": \"config\",  # this is always config;\n",
    "    \"state\": csrf_token(),  # a cryptographically secure random string, to avoid CSRF;\n",
    "    \"code_challenge_method\": \"S256\",  # always S256;\n",
    "    \"code_challenge\": code_challenge() # the code challenge (see RFC 7636).\n",
    "}\n",
    "url = authorization_endpoint + \"?\" + \"&\".join([k + \"=\" + v for k, v in params.items()])"
   ]
  },
  {
   "cell_type": "code",
   "execution_count": 9,
   "metadata": {},
   "outputs": [],
   "source": [
    "# open authorization url\n",
    "print(url)\n",
    "!open \"$url\""
   ]
  },
  {
   "cell_type": "code",
   "execution_count": 10,
   "metadata": {},
   "outputs": [
    {
     "name": "stderr",
     "output_type": "stream",
     "text": [
      "127.0.0.1 - - [13/Jul/2017 14:49:18] \"GET /callback?code=KwiU%2Bb90J9iFWMuJ5CNn12bDsDBXz92XrY%2B0srsUcFvTeeLVgX2zME7XsLCoMqyqE712CiTEWxC%2F%2FQSMOK53BHsidHlwZSI6ImF1dGhvcml6YXRpb25fY29kZSIsImF1dGhfa2V5IjoiYWNiMzI5MWNmZGU2NjAzZDNjMzgxNzBjOGE4MDY1YTUiLCJ1c2VyX2lkIjoiZTExMzdlZjc0MmFkZjgzMDhhYWI3ZTBhNmI2NDNjOGUyMmNiZjNmYiIsImNsaWVudF9pZCI6Im9yZy5lZHV2cG4uYXBwIiwic2NvcGUiOiJjb25maWciLCJyZWRpcmVjdF91cmkiOiJodHRwOlwvXC8xMjcuMC4wLjE6NTA3NTFcL2NhbGxiYWNrIiwiY29kZV9jaGFsbGVuZ2UiOiJBYkRsUGlQcUtOb3RPU3ZLaFdoMDV6ZzVpYVI2WW5YLU1ObXdYX3RLQWJRIiwiZXhwaXJlc19hdCI6IjIwMTctMDctMTMgMTE6NTQ6MTgifQ%3D%3D&state=fZH5tb4zyPhtAb2cAvYw0wszvTr9zqL7uwp5rhm9hjA HTTP/1.1\" 200 -\n"
     ]
    }
   ],
   "source": [
    "# listen for one request\n",
    "class RequestHandler(BaseHTTPServer.BaseHTTPRequestHandler):\n",
    "    def do_GET(self):\n",
    "        self.send_response(200)\n",
    "        self.send_header(\"Content-type\", \"text/html\")\n",
    "        self.end_headers()\n",
    "        self.wfile.write(\"<html><head><title>eduvpn</title></head><body><h1>You can now close this window</h1>\")\n",
    "        self.server.path = self.path\n",
    "\n",
    "httpd = BaseHTTPServer.HTTPServer(('', port), RequestHandler)\n",
    "httpd.handle_request()"
   ]
  },
  {
   "cell_type": "code",
   "execution_count": 11,
   "metadata": {},
   "outputs": [
    {
     "data": {
      "text/plain": [
       "'KwiU%2Bb90J9iFWMuJ5CNn12bDsDBXz92XrY%2B0srsUcFvTeeLVgX2zME7XsLCoMqyqE712CiTEWxC%2F%2FQSMOK53BHsidHlwZSI6ImF1dGhvcml6YXRpb25fY29kZSIsImF1dGhfa2V5IjoiYWNiMzI5MWNmZGU2NjAzZDNjMzgxNzBjOGE4MDY1YTUiLCJ1c2VyX2lkIjoiZTExMzdlZjc0MmFkZjgzMDhhYWI3ZTBhNmI2NDNjOGUyMmNiZjNmYiIsImNsaWVudF9pZCI6Im9yZy5lZHV2cG4uYXBwIiwic2NvcGUiOiJjb25maWciLCJyZWRpcmVjdF91cmkiOiJodHRwOlwvXC8xMjcuMC4wLjE6NTA3NTFcL2NhbGxiYWNrIiwiY29kZV9jaGFsbGVuZ2UiOiJBYkRsUGlQcUtOb3RPU3ZLaFdoMDV6ZzVpYVI2WW5YLU1ObXdYX3RLQWJRIiwiZXhwaXJlc19hdCI6IjIwMTctMDctMTMgMTE6NTQ6MTgifQ%3D%3D'"
      ]
     },
     "execution_count": 11,
     "metadata": {},
     "output_type": "execute_result"
    }
   ],
   "source": [
    "# parse the path\n",
    "path, args_raw = httpd.path.split(\"?\")\n",
    "args = dict([i.split('=') for i in args_raw.split(\"&\")])\n",
    "token = args['code']\n",
    "token"
   ]
  },
  {
   "cell_type": "code",
   "execution_count": null,
   "metadata": {},
   "outputs": [],
   "source": []
  }
 ],
 "metadata": {
  "kernelspec": {
   "display_name": "Python 2",
   "language": "python",
   "name": "python2"
  },
  "language_info": {
   "codemirror_mode": {
    "name": "ipython",
    "version": 2
   },
   "file_extension": ".py",
   "mimetype": "text/x-python",
   "name": "python",
   "nbconvert_exporter": "python",
   "pygments_lexer": "ipython2",
   "version": "2.7.13"
  }
 },
 "nbformat": 4,
 "nbformat_minor": 2
}
