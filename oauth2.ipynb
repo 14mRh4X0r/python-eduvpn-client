{
 "cells": [
  {
   "cell_type": "code",
   "execution_count": 1,
   "metadata": {
    "collapsed": true
   },
   "outputs": [],
   "source": [
    "import requests\n",
    "import nacl.signing\n",
    "import base64\n",
    "import os\n",
    "import hashlib\n",
    "import random\n",
    "import BaseHTTPServer\n",
    "import socket"
   ]
  },
  {
   "cell_type": "code",
   "execution_count": 2,
   "metadata": {
    "collapsed": true
   },
   "outputs": [],
   "source": [
    "eduvpn_key = 'E5On0JTtyUVZmcWd+I/FXRm32nSq8R2ioyW7dcu/U88='"
   ]
  },
  {
   "cell_type": "code",
   "execution_count": 3,
   "metadata": {
    "collapsed": true
   },
   "outputs": [],
   "source": [
    "def csrf_token(nbytes=32):\n",
    "    tok = os.urandom(nbytes)\n",
    "    return base64.urlsafe_b64encode(tok).rstrip(b'=').decode('ascii')\n",
    "\n",
    "def code_challenge(length=128):\n",
    "    choices = 'abcdefghijklmnopqrstuvwxyzABCDEFGHIJKLMNOPQRSTUVWXYZ0123456789-._~'\n",
    "    code_verifier = \"\".join(random.choice(choices) for _ in range(length))\n",
    "    return base64.urlsafe_b64encode(hashlib.sha256(code_verifier).digest()).rstrip('=')\n",
    "\n",
    "def get_open_port():\n",
    "        \"\"\"find an unused port\"\"\"\n",
    "        s = socket.socket(socket.AF_INET, socket.SOCK_STREAM)\n",
    "        s.bind((\"\",0))\n",
    "        s.listen(1)\n",
    "        port = s.getsockname()[1]\n",
    "        s.close()\n",
    "        return port"
   ]
  },
  {
   "cell_type": "code",
   "execution_count": 4,
   "metadata": {},
   "outputs": [
    {
     "data": {
      "text/plain": [
       "[u'https://nl.eduvpn.org/',\n",
       " u'https://esciencecenter.eduvpn.nl/',\n",
       " u'https://ru.eduvpn.nl/',\n",
       " u'https://surf.eduvpn.nl/',\n",
       " u'https://ut.eduvpn.nl/',\n",
       " u'https://demo.eduvpn.nl/']"
      ]
     },
     "execution_count": 4,
     "metadata": {},
     "output_type": "execute_result"
    }
   ],
   "source": [
    "# retrieve a list of instances\n",
    "inst_doc_url = 'https://static.eduvpn.nl/instances.json'\n",
    "inst_doc_sig_url = 'https://static.eduvpn.nl/instances.json.sig'\n",
    "inst_doc = requests.get(inst_doc_url)\n",
    "inst_doc_sig = requests.get(inst_doc_sig_url)\n",
    "instances = [i['base_uri'] for i in inst_doc.json()['instances']]\n",
    "instances"
   ]
  },
  {
   "cell_type": "code",
   "execution_count": 5,
   "metadata": {
    "scrolled": true
   },
   "outputs": [],
   "source": [
    "verify_key = nacl.signing.VerifyKey(eduvpn_key, encoder=nacl.encoding.Base64Encoder)\n",
    "_ = verify_key.verify(smessage=inst_doc.content, signature=inst_doc_sig.content.decode('base64'))"
   ]
  },
  {
   "cell_type": "code",
   "execution_count": 6,
   "metadata": {
    "collapsed": true
   },
   "outputs": [],
   "source": [
    "instance = 'https://demo.eduvpn.nl/'"
   ]
  },
  {
   "cell_type": "code",
   "execution_count": 7,
   "metadata": {
    "collapsed": true
   },
   "outputs": [],
   "source": [
    "info = requests.get(instance + '/info.json').json()\n",
    "urls = info['api']['http://eduvpn.org/api#2']\n",
    "authorization_endpoint = urls['authorization_endpoint']\n",
    "port = get_open_port()"
   ]
  },
  {
   "cell_type": "code",
   "execution_count": 8,
   "metadata": {},
   "outputs": [
    {
     "name": "stdout",
     "output_type": "stream",
     "text": [
      "https://demo.eduvpn.nl/portal/_oauth/authorize?code_challenge=QGf8Mmv1y9CrR1DfBv77nmrAFIx6sN-GvLWtuQAgimU&client_id=org.eduvpn.app&state=xsOMilz6odOm8nB3MppUD80Sq8Qq62iYLgiQaPIEz98&redirect_uri=http://127.0.0.1:50572/callback&response_type=code&code_challenge_method=S256&scope=config\n"
     ]
    }
   ],
   "source": [
    "params = {\n",
    "    \"client_id\": \"org.eduvpn.app\",   #  the ID that was registered, see below;\n",
    "    \"redirect_uri\":   'http://127.0.0.1:%s/callback' % port,   # the URL that was registered, see below;\n",
    "    \"response_type\": \"code\",  # always code;\n",
    "    \"scope\": \"config\",  # this is always config;\n",
    "    \"state\": csrf_token(),  # a cryptographically secure random string, to avoid CSRF;\n",
    "    \"code_challenge_method\": \"S256\",  # always S256;\n",
    "    \"code_challenge\": code_challenge() # the code challenge (see RFC 7636).\n",
    "}\n",
    "print(authorization_endpoint + \"?\" + \"&\".join([k + \"=\" + v for k, v in params.items()]))"
   ]
  },
  {
   "cell_type": "code",
   "execution_count": 9,
   "metadata": {},
   "outputs": [
    {
     "name": "stderr",
     "output_type": "stream",
     "text": [
      "127.0.0.1 - - [13/Jul/2017 14:42:35] \"GET /callback?code=a5iEKY7PpbcfDBvoy75OI9fzhRx1xrpxcFM%2F9x93URFuUwOsM7QYx%2Bh%2BarEmvTUAEPLl1Vr2lSYngOIhaVnSCnsidHlwZSI6ImF1dGhvcml6YXRpb25fY29kZSIsImF1dGhfa2V5IjoiNzhlYTcyNzhmNjBjNzIxNzc0MzFjY2E5NDE2NWMzOTAiLCJ1c2VyX2lkIjoiZTExMzdlZjc0MmFkZjgzMDhhYWI3ZTBhNmI2NDNjOGUyMmNiZjNmYiIsImNsaWVudF9pZCI6Im9yZy5lZHV2cG4uYXBwIiwic2NvcGUiOiJjb25maWciLCJyZWRpcmVjdF91cmkiOiJodHRwOlwvXC8xMjcuMC4wLjE6NTA1NzJcL2NhbGxiYWNrIiwiY29kZV9jaGFsbGVuZ2UiOiJRR2Y4TW12MXk5Q3JSMURmQnY3N25tckFGSXg2c04tR3ZMV3R1UUFnaW1VIiwiZXhwaXJlc19hdCI6IjIwMTctMDctMTMgMTE6NDc6MzUifQ%3D%3D&state=xsOMilz6odOm8nB3MppUD80Sq8Qq62iYLgiQaPIEz98 HTTP/1.1\" 200 -\n"
     ]
    }
   ],
   "source": [
    "class RequestHandler(BaseHTTPServer.BaseHTTPRequestHandler):\n",
    "    def do_GET(self):\n",
    "        self.send_response(200)\n",
    "        self.send_header(\"Content-type\", \"text/html\")\n",
    "        self.end_headers()\n",
    "        self.wfile.write(\"<html><head><title>eduvpn</title></head><body><h1>You can now close this window</h1>\")\n",
    "        self.server.path = self.path\n",
    "\n",
    "httpd = BaseHTTPServer.HTTPServer(('', port), RequestHandler)\n",
    "httpd.handle_request()"
   ]
  },
  {
   "cell_type": "code",
   "execution_count": 10,
   "metadata": {},
   "outputs": [],
   "source": [
    "path, args_raw = httpd.path.split(\"?\")\n",
    "args = dict([i.split('=') for i in args_raw.split(\"&\")])"
   ]
  },
  {
   "cell_type": "code",
   "execution_count": 11,
   "metadata": {},
   "outputs": [
    {
     "data": {
      "text/plain": [
       "'a5iEKY7PpbcfDBvoy75OI9fzhRx1xrpxcFM%2F9x93URFuUwOsM7QYx%2Bh%2BarEmvTUAEPLl1Vr2lSYngOIhaVnSCnsidHlwZSI6ImF1dGhvcml6YXRpb25fY29kZSIsImF1dGhfa2V5IjoiNzhlYTcyNzhmNjBjNzIxNzc0MzFjY2E5NDE2NWMzOTAiLCJ1c2VyX2lkIjoiZTExMzdlZjc0MmFkZjgzMDhhYWI3ZTBhNmI2NDNjOGUyMmNiZjNmYiIsImNsaWVudF9pZCI6Im9yZy5lZHV2cG4uYXBwIiwic2NvcGUiOiJjb25maWciLCJyZWRpcmVjdF91cmkiOiJodHRwOlwvXC8xMjcuMC4wLjE6NTA1NzJcL2NhbGxiYWNrIiwiY29kZV9jaGFsbGVuZ2UiOiJRR2Y4TW12MXk5Q3JSMURmQnY3N25tckFGSXg2c04tR3ZMV3R1UUFnaW1VIiwiZXhwaXJlc19hdCI6IjIwMTctMDctMTMgMTE6NDc6MzUifQ%3D%3D'"
      ]
     },
     "execution_count": 11,
     "metadata": {},
     "output_type": "execute_result"
    }
   ],
   "source": [
    "token = args['code']\n",
    "token"
   ]
  }
 ],
 "metadata": {
  "kernelspec": {
   "display_name": "Python 2",
   "language": "python",
   "name": "python2"
  },
  "language_info": {
   "codemirror_mode": {
    "name": "ipython",
    "version": 2
   },
   "file_extension": ".py",
   "mimetype": "text/x-python",
   "name": "python",
   "nbconvert_exporter": "python",
   "pygments_lexer": "ipython2",
   "version": "2.7.13"
  }
 },
 "nbformat": 4,
 "nbformat_minor": 2
}
