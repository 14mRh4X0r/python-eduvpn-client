{
 "cells": [
  {
   "cell_type": "code",
   "execution_count": 1,
   "metadata": {},
   "outputs": [],
   "source": [
    "from pathlib import Path\n",
    "import gi\n",
    "gi.require_version('NM', '1.0')\n",
    "from gi.repository import NM, GLib "
   ]
  },
  {
   "cell_type": "code",
   "execution_count": 2,
   "metadata": {},
   "outputs": [],
   "source": [
    "uuid = open(Path(\"~/.config/eduvpn/uuid\").expanduser(), 'r').read().strip()"
   ]
  },
  {
   "cell_type": "code",
   "execution_count": 3,
   "metadata": {},
   "outputs": [],
   "source": [
    "client = NM.Client.new()"
   ]
  },
  {
   "cell_type": "code",
   "execution_count": 4,
   "metadata": {},
   "outputs": [],
   "source": [
    "connection = client.get_connection_by_uuid(uuid)"
   ]
  },
  {
   "cell_type": "code",
   "execution_count": 30,
   "metadata": {},
   "outputs": [],
   "source": [
    "cert = connection.get_setting_vpn().get_data_item('cert')  # or ca, cert, key"
   ]
  },
  {
   "cell_type": "code",
   "execution_count": 31,
   "metadata": {},
   "outputs": [
    {
     "data": {
      "text/plain": [
       "'-----BEGIN CERTIFICATE-----\\nMIIEHDCCAoSgAwIBAgIQaAm6gUJx0UopervecPiEHzANBgkqhkiG9w0BAQsFADAR\\nMQ8wDQYDVQQDDAZWUE4gQ0EwHhcNMjAwNTI1MTI1NjUxWhcNMjAwODIzMTI0ODM1\\nWjArMSkwJwYDVQQDEyA1NmVmNGViNzRlYjZiN2NlYzE4NTk5MGY2OTM2OTBkYjCC\\nAaIwDQYJKoZIhvcNAQEBBQADggGPADCCAYoCggGBANwxX7yQtlqUbwradrcUwHrh\\nJNBLBEPXtrRixfnht2fBW1gOsoTv4Lx+vCK2DmhV6oD5fN//WUbVR4MlG26i5VBB\\nrFgByDgKuiXj7agFERcJVqblVe7uAvw+cKqz4sznhElNiE0rT46IGuUXwx8H2Gaf\\nfsrb9C0RSUjlOx951MtxFpiLPYaeg4ucN4pwsW04rHqH29HARCaHmvTKbTSItuPC\\neqmILWFErmJk2TLc4sxcDw9VmU6MIKRSkdI6O/suBSRKFvOD+H4B0h5inCLtOKWE\\nXlG81pKGRDCNhf6EEg625xE0o6XWBZ93jStbwpVstsCpYXF6W/9MVSVnhmddsIEj\\nfKSzUzwlRkmRaZiaKvztaE4W0af74WTY5Kjcsqd1S2xavumiCvxiym+rfsxnVd5f\\ngSkkptFXDkFGoXdm4JFYCgPQfsM0tc+LrA8WwusD9DR2bASBquQtUuL7KAg6/vee\\ntxoDuj6ISB73L4R7QtDgooSIdKdn0Z1a4ALBGyiUowIDAQABo1YwVDAOBgNVHQ8B\\nAf8EBAMCB4AwEwYDVR0lBAwwCgYIKwYBBQUHAwIwDAYDVR0TAQH/BAIwADAfBgNV\\nHSMEGDAWgBSWy8+SLM+WFKCOyN97U/qYU3LguTANBgkqhkiG9w0BAQsFAAOCAYEA\\ndXF1Z0sKyYu/FK+UZZ8QyLIhl1p+xl3vjbDlG781o+nIkHEqY+FrPk5Li+hWITnb\\nFA+tGyOsMj0QQ4MQL1GkcZzXUgEg8lnwZxejcn5srU0ULOManFNrGP5POfJj/Gyj\\nTRZK+EMi37/aHKA7B0o9OSTPLJxcxtKrTDrs+YlpMadJG3bCr1pun5bTDbsRHjeo\\nGtmZPhMQAfSAJu51Nn/Iqmg7XAQ13rNiuSYMwhVW/WeVnQJlIDGJPfGg0S4w9wXP\\nOKZxSSWSsYsp1wLCTmqD9KMSF3ej45c5y7kb2t+dzcTyz/4CyxIKo4m0Xhk700J/\\n28a2LbKbYUR46oCltQL/L+AGyNG8AjUWgWDy+dIb0mvu2CMQ5mYLVbilWdKk+PL0\\n0AhhRikuoDh1JAccH+T2yPGIFcDdo1vtAh63dvz63l+HL0nhAMAdsjntZWxyzEdP\\nZ5IpMQWwCQ8BvWti3jRcbyBMqKzpee0VaZgfL4/Zjm79Zq12K2NflyfSGpB3ENku\\n-----END CERTIFICATE-----\\n'"
      ]
     },
     "execution_count": 31,
     "metadata": {},
     "output_type": "execute_result"
    }
   ],
   "source": [
    "open(cert).read()"
   ]
  },
  {
   "cell_type": "code",
   "execution_count": 5,
   "metadata": {},
   "outputs": [
    {
     "ename": "TypeError",
     "evalue": "GObject.connect requires at least 2 arguments",
     "output_type": "error",
     "traceback": [
      "\u001b[0;31m\u001b[0m",
      "\u001b[0;31mTypeError\u001b[0mTraceback (most recent call last)",
      "\u001b[0;32m<ipython-input-5-94553fb97fa3>\u001b[0m in \u001b[0;36m<module>\u001b[0;34m\u001b[0m\n\u001b[0;32m----> 1\u001b[0;31m \u001b[0mconnection\u001b[0m\u001b[0;34m.\u001b[0m\u001b[0mconnect\u001b[0m\u001b[0;34m(\u001b[0m\u001b[0;34m)\u001b[0m\u001b[0;34m\u001b[0m\u001b[0;34m\u001b[0m\u001b[0m\n\u001b[0m",
      "\u001b[0;31mTypeError\u001b[0m: GObject.connect requires at least 2 arguments"
     ]
    }
   ],
   "source": [
    "connection.connect()"
   ]
  },
  {
   "cell_type": "code",
   "execution_count": 6,
   "metadata": {},
   "outputs": [],
   "source": [
    "client = NM.Client.new()"
   ]
  },
  {
   "cell_type": "code",
   "execution_count": null,
   "metadata": {},
   "outputs": [],
   "source": [
    "client.activate_connection_async"
   ]
  }
 ],
 "metadata": {
  "kernelspec": {
   "display_name": "Python 3",
   "language": "python",
   "name": "python3"
  },
  "language_info": {
   "codemirror_mode": {
    "name": "ipython",
    "version": 3
   },
   "file_extension": ".py",
   "mimetype": "text/x-python",
   "name": "python",
   "nbconvert_exporter": "python",
   "pygments_lexer": "ipython3",
   "version": "3.8.2"
  }
 },
 "nbformat": 4,
 "nbformat_minor": 4
}
