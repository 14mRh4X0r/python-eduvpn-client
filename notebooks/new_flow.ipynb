{
 "cells": [
  {
   "cell_type": "code",
   "execution_count": 1,
   "metadata": {},
   "outputs": [],
   "source": [
    "import requests\n",
    "import pandas as pd"
   ]
  },
  {
   "cell_type": "code",
   "execution_count": 2,
   "metadata": {},
   "outputs": [],
   "source": [
    "# Settings\n",
    "disco_base_url = 'https://disco.eduvpn.org/'\n",
    "organisation = 'SURFnet bv'\n",
    "server = 'Demo'"
   ]
  },
  {
   "cell_type": "code",
   "execution_count": 3,
   "metadata": {},
   "outputs": [],
   "source": [
    "org_list_url = disco_base_url  + \"organization_list.json\""
   ]
  },
  {
   "cell_type": "code",
   "execution_count": 4,
   "metadata": {},
   "outputs": [],
   "source": [
    "org_list_response = requests.get(org_list_url)"
   ]
  },
  {
   "cell_type": "code",
   "execution_count": 5,
   "metadata": {},
   "outputs": [],
   "source": [
    "if not org_list_response:\n",
    "    raise Exception(f\"failure getting {org_list_url}\")"
   ]
  },
  {
   "cell_type": "code",
   "execution_count": 6,
   "metadata": {},
   "outputs": [],
   "source": [
    "organization_list = pd.DataFrame(org_list_response.json()['organization_list'])"
   ]
  },
  {
   "cell_type": "code",
   "execution_count": 7,
   "metadata": {},
   "outputs": [
    {
     "data": {
      "text/html": [
       "<div>\n",
       "<style scoped>\n",
       "    .dataframe tbody tr th:only-of-type {\n",
       "        vertical-align: middle;\n",
       "    }\n",
       "\n",
       "    .dataframe tbody tr th {\n",
       "        vertical-align: top;\n",
       "    }\n",
       "\n",
       "    .dataframe thead th {\n",
       "        text-align: right;\n",
       "    }\n",
       "</style>\n",
       "<table border=\"1\" class=\"dataframe\">\n",
       "  <thead>\n",
       "    <tr style=\"text-align: right;\">\n",
       "      <th></th>\n",
       "      <th>display_name</th>\n",
       "      <th>org_id</th>\n",
       "      <th>server_list</th>\n",
       "      <th>keyword_list</th>\n",
       "    </tr>\n",
       "  </thead>\n",
       "  <tbody>\n",
       "    <tr>\n",
       "      <th>0</th>\n",
       "      <td>{'da': 'International Business College [TEST]'...</td>\n",
       "      <td>https://wayf.ibc.dk/simplesaml/saml2/idp/metad...</td>\n",
       "      <td>aHR0cHM6Ly93YXlmLmliYy5kay9zaW1wbGVzYW1sL3NhbW...</td>\n",
       "      <td>NaN</td>\n",
       "    </tr>\n",
       "    <tr>\n",
       "      <th>1</th>\n",
       "      <td>{'da': 'Erhvervsakademi Aarhus', 'en': 'Busine...</td>\n",
       "      <td>http://adfs.eaaa.dk/adfs/services/trust</td>\n",
       "      <td>aHR0cDovL2FkZnMuZWFhYS5kay9hZGZzL3NlcnZpY2VzL3...</td>\n",
       "      <td>NaN</td>\n",
       "    </tr>\n",
       "    <tr>\n",
       "      <th>2</th>\n",
       "      <td>{'da': 'KMD DSPARE3', 'en': 'KMD DSPARE3'}</td>\n",
       "      <td>http://dans-support-04.dans-idp-dev01.northeur...</td>\n",
       "      <td>aHR0cDovL2RhbnMtc3VwcG9ydC0wNC5kYW5zLWlkcC1kZX...</td>\n",
       "      <td>NaN</td>\n",
       "    </tr>\n",
       "    <tr>\n",
       "      <th>3</th>\n",
       "      <td>{'da': 'KMD DSUP_PATCH1', 'en': 'KMD DSUP_PATC...</td>\n",
       "      <td>https://dans-idp.kmd.dk:7080</td>\n",
       "      <td>aHR0cHM6Ly9kYW5zLWlkcC5rbWQuZGs6NzA4MA.json</td>\n",
       "      <td>NaN</td>\n",
       "    </tr>\n",
       "    <tr>\n",
       "      <th>4</th>\n",
       "      <td>{'da': 'IT-Supportcentret (ITS) [ADFS]', 'en':...</td>\n",
       "      <td>http://fs4.supportcenter.dk/adfs/services/trust</td>\n",
       "      <td>aHR0cDovL2ZzNC5zdXBwb3J0Y2VudGVyLmRrL2FkZnMvc2...</td>\n",
       "      <td>NaN</td>\n",
       "    </tr>\n",
       "  </tbody>\n",
       "</table>\n",
       "</div>"
      ],
      "text/plain": [
       "                                        display_name  \\\n",
       "0  {'da': 'International Business College [TEST]'...   \n",
       "1  {'da': 'Erhvervsakademi Aarhus', 'en': 'Busine...   \n",
       "2         {'da': 'KMD DSPARE3', 'en': 'KMD DSPARE3'}   \n",
       "3  {'da': 'KMD DSUP_PATCH1', 'en': 'KMD DSUP_PATC...   \n",
       "4  {'da': 'IT-Supportcentret (ITS) [ADFS]', 'en':...   \n",
       "\n",
       "                                              org_id  \\\n",
       "0  https://wayf.ibc.dk/simplesaml/saml2/idp/metad...   \n",
       "1            http://adfs.eaaa.dk/adfs/services/trust   \n",
       "2  http://dans-support-04.dans-idp-dev01.northeur...   \n",
       "3                       https://dans-idp.kmd.dk:7080   \n",
       "4    http://fs4.supportcenter.dk/adfs/services/trust   \n",
       "\n",
       "                                         server_list keyword_list  \n",
       "0  aHR0cHM6Ly93YXlmLmliYy5kay9zaW1wbGVzYW1sL3NhbW...          NaN  \n",
       "1  aHR0cDovL2FkZnMuZWFhYS5kay9hZGZzL3NlcnZpY2VzL3...          NaN  \n",
       "2  aHR0cDovL2RhbnMtc3VwcG9ydC0wNC5kYW5zLWlkcC1kZX...          NaN  \n",
       "3        aHR0cHM6Ly9kYW5zLWlkcC5rbWQuZGs6NzA4MA.json          NaN  \n",
       "4  aHR0cDovL2ZzNC5zdXBwb3J0Y2VudGVyLmRrL2FkZnMvc2...          NaN  "
      ]
     },
     "execution_count": 7,
     "metadata": {},
     "output_type": "execute_result"
    }
   ],
   "source": [
    "organization_list[:5]"
   ]
  },
  {
   "cell_type": "code",
   "execution_count": 8,
   "metadata": {},
   "outputs": [],
   "source": [
    "def pandas_expand(df: pd.DataFrame, column: str):\n",
    "    expanded = pd.DataFrame(list(df[column])).add_prefix(column + '_')\n",
    "    return pd.concat([expanded, df.drop(columns=column)], axis=1)"
   ]
  },
  {
   "cell_type": "code",
   "execution_count": 9,
   "metadata": {},
   "outputs": [],
   "source": [
    "org_list_expanded = pandas_expand(organization_list, 'display_name')"
   ]
  },
  {
   "cell_type": "code",
   "execution_count": 10,
   "metadata": {},
   "outputs": [],
   "source": [
    "surfnet = org_list_expanded[org_list_expanded['display_name_en'] == organisation]\n",
    "server_list_url = disco_base_url + surfnet['server_list'].iloc[0]"
   ]
  },
  {
   "cell_type": "code",
   "execution_count": 11,
   "metadata": {},
   "outputs": [],
   "source": [
    "server_list_response = requests.get(server_list_url)"
   ]
  },
  {
   "cell_type": "code",
   "execution_count": 12,
   "metadata": {},
   "outputs": [],
   "source": [
    "if not server_list_response:\n",
    "    raise Exception(f\"failure getting {server_list_url}\")"
   ]
  },
  {
   "cell_type": "code",
   "execution_count": 13,
   "metadata": {},
   "outputs": [],
   "source": [
    "server_list = pd.DataFrame(server_list_response.json()['server_list'])\n",
    "server_list_exp = pandas_expand(server_list, 'display_name')"
   ]
  },
  {
   "cell_type": "code",
   "execution_count": 14,
   "metadata": {},
   "outputs": [
    {
     "data": {
      "text/html": [
       "<div>\n",
       "<style scoped>\n",
       "    .dataframe tbody tr th:only-of-type {\n",
       "        vertical-align: middle;\n",
       "    }\n",
       "\n",
       "    .dataframe tbody tr th {\n",
       "        vertical-align: top;\n",
       "    }\n",
       "\n",
       "    .dataframe thead th {\n",
       "        text-align: right;\n",
       "    }\n",
       "</style>\n",
       "<table border=\"1\" class=\"dataframe\">\n",
       "  <thead>\n",
       "    <tr style=\"text-align: right;\">\n",
       "      <th></th>\n",
       "      <th>display_name_da-DK</th>\n",
       "      <th>display_name_en-US</th>\n",
       "      <th>display_name_nb-NO</th>\n",
       "      <th>display_name_nl-NL</th>\n",
       "      <th>display_name_en</th>\n",
       "      <th>base_url</th>\n",
       "      <th>peer_list</th>\n",
       "    </tr>\n",
       "  </thead>\n",
       "  <tbody>\n",
       "    <tr>\n",
       "      <th>0</th>\n",
       "      <td>Holland</td>\n",
       "      <td>The Netherlands</td>\n",
       "      <td>Nederland</td>\n",
       "      <td>Nederland</td>\n",
       "      <td>NaN</td>\n",
       "      <td>https://nl.eduvpn.org/</td>\n",
       "      <td>[{'base_url': 'https://eduvpn.rash.al/', 'disp...</td>\n",
       "    </tr>\n",
       "    <tr>\n",
       "      <th>1</th>\n",
       "      <td>NaN</td>\n",
       "      <td>NaN</td>\n",
       "      <td>NaN</td>\n",
       "      <td>NaN</td>\n",
       "      <td>Demo</td>\n",
       "      <td>https://demo.eduvpn.nl/</td>\n",
       "      <td>NaN</td>\n",
       "    </tr>\n",
       "    <tr>\n",
       "      <th>2</th>\n",
       "      <td>NaN</td>\n",
       "      <td>NaN</td>\n",
       "      <td>NaN</td>\n",
       "      <td>NaN</td>\n",
       "      <td>SURFnet</td>\n",
       "      <td>https://surfnet.eduvpn.nl/</td>\n",
       "      <td>NaN</td>\n",
       "    </tr>\n",
       "  </tbody>\n",
       "</table>\n",
       "</div>"
      ],
      "text/plain": [
       "  display_name_da-DK display_name_en-US display_name_nb-NO display_name_nl-NL  \\\n",
       "0            Holland    The Netherlands          Nederland          Nederland   \n",
       "1                NaN                NaN                NaN                NaN   \n",
       "2                NaN                NaN                NaN                NaN   \n",
       "\n",
       "  display_name_en                    base_url  \\\n",
       "0             NaN      https://nl.eduvpn.org/   \n",
       "1            Demo     https://demo.eduvpn.nl/   \n",
       "2         SURFnet  https://surfnet.eduvpn.nl/   \n",
       "\n",
       "                                           peer_list  \n",
       "0  [{'base_url': 'https://eduvpn.rash.al/', 'disp...  \n",
       "1                                                NaN  \n",
       "2                                                NaN  "
      ]
     },
     "execution_count": 14,
     "metadata": {},
     "output_type": "execute_result"
    }
   ],
   "source": [
    "server_list_exp"
   ]
  },
  {
   "cell_type": "code",
   "execution_count": 15,
   "metadata": {},
   "outputs": [],
   "source": [
    "demo_server = server_list_exp[server_list_exp['display_name_en'] == 'Demo']"
   ]
  },
  {
   "cell_type": "code",
   "execution_count": 16,
   "metadata": {},
   "outputs": [],
   "source": [
    "demo_base_url = demo_server['base_url'].iloc[0]"
   ]
  },
  {
   "cell_type": "code",
   "execution_count": 17,
   "metadata": {},
   "outputs": [
    {
     "data": {
      "text/plain": [
       "'https://demo.eduvpn.nl/'"
      ]
     },
     "execution_count": 17,
     "metadata": {},
     "output_type": "execute_result"
    }
   ],
   "source": [
    "demo_base_url"
   ]
  },
  {
   "cell_type": "code",
   "execution_count": null,
   "metadata": {},
   "outputs": [],
   "source": []
  }
 ],
 "metadata": {
  "kernelspec": {
   "display_name": "Python 3",
   "language": "python",
   "name": "python3"
  },
  "language_info": {
   "codemirror_mode": {
    "name": "ipython",
    "version": 3
   },
   "file_extension": ".py",
   "mimetype": "text/x-python",
   "name": "python",
   "nbconvert_exporter": "python",
   "pygments_lexer": "ipython3",
   "version": "3.8.2"
  }
 },
 "nbformat": 4,
 "nbformat_minor": 4
}
